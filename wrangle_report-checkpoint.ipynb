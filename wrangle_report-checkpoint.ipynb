{
 "cells": [
  {
   "cell_type": "markdown",
   "metadata": {},
   "source": [
    "# Wrangle report  ‘We rate dogs’\n",
    "### Name: Raghad Alsukhaiber\n"
   ]
  },
  {
   "cell_type": "markdown",
   "metadata": {},
   "source": [
    "## Introduction:\n",
    "On this project we had three datasets to work on assessing, cleaning and store all the clean data file into one csv file called `twitter_archive_master` and move to the ‘visualization’ stage.\n",
    "\n"
   ]
  },
  {
   "cell_type": "markdown",
   "metadata": {},
   "source": [
    "## Gathering stage:-\n",
    "We have three dataset with defferent extinction:\n",
    "- twitter-archive-enhanced.csv file for WeRateDogs account which is given by Udacity.\n",
    "- image-predictions.tsv is a file that we downloaded through request library.\n",
    "- tweet-json is a file and I store it through a for loop line by line into a data frame.\n",
    "\n"
   ]
  },
  {
   "cell_type": "markdown",
   "metadata": {},
   "source": [
    "## Assessing stage:-\n",
    "When I finish gathering the needed files I’m going to assess them programmatically and visually, to check if there is any issue with the data (quality issue or tidiness issue)\n",
    "After assessing process, I found some quality or tidiness issues, such as:\n",
    "#### Quality: \n",
    "- .csv file\n",
    " - 1. replace 'none' with 'NaN' on dog stages columns\n",
    " - 2. remove retweet and keep the original tweet  \n",
    " - 3. delete the rows in 'name' column with incorrect names\n",
    " - 4. change the data type  \n",
    " - 5. 'text' column must be separated form the url\n",
    " \n",
    "- .json file\n",
    " - 6. change id to tweet_id\n",
    "\n",
    "- .tsv file\n",
    " - 7. remove unnecessry columns\n",
    " - 8. change the name of p1_con column to be more clear\n",
    " - 9. drop the 66 duplicated rows in 'jpg_url' column  \n",
    "\n",
    "\n",
    "#### Tidiness:\n",
    "- 1. compine 4 columns into one column  \n",
    "- 2. merge all the three dataframe\n",
    "\n"
   ]
  },
  {
   "cell_type": "markdown",
   "metadata": {},
   "source": [
    "## Cleaning stage:\n",
    "Through the cleaning process I used the define-code-test framework for each issue (quality or tidiness)\n",
    "- Define what I’m going to do or what is the issue\n",
    "- Write the code for the solution\n",
    "- Test the solution to make sure it’s clear\n",
    "\n"
   ]
  },
  {
   "cell_type": "markdown",
   "metadata": {},
   "source": [
    "## Storing stage:\n",
    "After combining the three cleaned dataset I stored them on a csv file called `twitter_archive_master.csv`\n",
    "\n"
   ]
  },
  {
   "cell_type": "markdown",
   "metadata": {},
   "source": [
    "## Visualization stage:\n",
    "I imports the needed library for the plots, after that I visualized the retweet and favourite values, the most common dogs stage, the most common dogs name, what source people usually use for twitter, and what the most rating value.\n",
    "\n"
   ]
  }
 ],
 "metadata": {
  "kernelspec": {
   "display_name": "Python 3",
   "language": "python",
   "name": "python3"
  },
  "language_info": {
   "codemirror_mode": {
    "name": "ipython",
    "version": 3
   },
   "file_extension": ".py",
   "mimetype": "text/x-python",
   "name": "python",
   "nbconvert_exporter": "python",
   "pygments_lexer": "ipython3",
   "version": "3.7.3"
  }
 },
 "nbformat": 4,
 "nbformat_minor": 2
}
